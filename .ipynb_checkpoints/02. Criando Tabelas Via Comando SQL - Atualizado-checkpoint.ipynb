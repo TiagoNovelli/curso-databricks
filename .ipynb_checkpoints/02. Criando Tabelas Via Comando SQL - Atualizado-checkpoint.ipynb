{
 "cells": [
  {
   "cell_type": "markdown",
   "metadata": {
    "application/vnd.databricks.v1+cell": {
     "cellMetadata": {},
     "inputWidgets": {},
     "nuid": "cc2671ae-25e8-46fb-96ac-5db2d09b4d13",
     "showTitle": false,
     "tableResultSettingsMap": {},
     "title": ""
    }
   },
   "source": [
    "no Unity Catalog do Databricks, o comando criar tabela direto no arquivo  não funciona diretamente da mesma forma que no catálogo “legacy” (metastore padrão DBFS)<br>\n",
    "Porque o Unity Catalog exige que o caminho de dados esteja registrado ou seja acessível com permissões corretas e que você use schemas e catalogs corretamente registrados"
   ]
  },
  {
   "cell_type": "markdown",
   "metadata": {
    "application/vnd.databricks.v1+cell": {
     "cellMetadata": {},
     "inputWidgets": {},
     "nuid": "8aa963af-7eee-4b8d-826e-2baae7ac89e6",
     "showTitle": false,
     "tableResultSettingsMap": {},
     "title": ""
    }
   },
   "source": [
    "##### Criando Banco de dados "
   ]
  },
  {
   "cell_type": "code",
   "execution_count": null,
   "metadata": {
    "application/vnd.databricks.v1+cell": {
     "cellMetadata": {
      "byteLimit": 2048000,
      "rowLimit": 10000
     },
     "inputWidgets": {},
     "nuid": "c98fe9a5-1270-4fc6-9a38-f5f1fc9f779d",
     "showTitle": false,
     "tableResultSettingsMap": {},
     "title": ""
    }
   },
   "outputs": [],
   "source": [
    "%python\n",
    "display(dbutils.fs.ls('/Volumes/workspace/default/arquivos-aula/Bike Store/'))"
   ]
  },
  {
   "cell_type": "code",
   "execution_count": null,
   "metadata": {
    "application/vnd.databricks.v1+cell": {
     "cellMetadata": {
      "byteLimit": 2048000,
      "implicitDf": true,
      "rowLimit": 10000
     },
     "inputWidgets": {},
     "nuid": "29c0ae81-ebe1-4de0-9291-9702222e9d2a",
     "showTitle": false,
     "tableResultSettingsMap": {},
     "title": ""
    }
   },
   "outputs": [],
   "source": [
    "%sql\n",
    "CREATE DATABASE IF NOT EXISTS teste;\n"
   ]
  },
  {
   "cell_type": "markdown",
   "metadata": {
    "application/vnd.databricks.v1+cell": {
     "cellMetadata": {},
     "inputWidgets": {},
     "nuid": "f3168ddb-640f-420b-9124-0e2169d64a31",
     "showTitle": false,
     "tableResultSettingsMap": {},
     "title": ""
    }
   },
   "source": [
    "##### Criando tabela de Produtos"
   ]
  },
  {
   "cell_type": "code",
   "execution_count": null,
   "metadata": {
    "application/vnd.databricks.v1+cell": {
     "cellMetadata": {
      "byteLimit": 2048000,
      "implicitDf": true,
      "rowLimit": 10000
     },
     "inputWidgets": {},
     "nuid": "a0af5ce0-b376-49ba-9657-d207e68d0b6e",
     "showTitle": false,
     "tableResultSettingsMap": {},
     "title": ""
    }
   },
   "outputs": [],
   "source": [
    "%sql\n",
    "\n",
    "use teste;\n",
    "CREATE TABLE IF NOT EXISTS produtos\n",
    "USING csv\n",
    "OPTIONS (\n",
    "  'path' '/FileStore/tables/Bikes/products.csv',  -- Caminho para o arquivo no DBFS\n",
    "  'header' 'true',                               -- Se a primeira linha do arquivo contém cabeçalho\n",
    "  'inferSchema' 'true'                           -- Inferir automaticamente os tipos de dados das colunas\n",
    ")\n"
   ]
  },
  {
   "cell_type": "code",
   "execution_count": null,
   "metadata": {
    "application/vnd.databricks.v1+cell": {
     "cellMetadata": {
      "byteLimit": 2048000,
      "implicitDf": true,
      "rowLimit": 10000
     },
     "inputWidgets": {},
     "nuid": "c11b6f05-1065-43cf-a496-572bfc9d8f26",
     "showTitle": false,
     "tableResultSettingsMap": {},
     "title": ""
    }
   },
   "outputs": [],
   "source": [
    "%sql\n",
    "use teste;\n",
    "CREATE TABLE IF NOT EXISTS Produtos\n",
    "USING csv\n",
    "OPTIONS (\n",
    "  'path' '/Volumes/workspace/default/arquivos-aula/Bike Store/products.csv', -- Caminho volume origem\n",
    "  'header' 'true',                               -- Se a primeira linha do arquivo contém cabeçalho\n",
    "  'inferSchema' 'true'                           -- Inferir automaticamente os tipos de dados das colunas\n",
    ")\n"
   ]
  },
  {
   "cell_type": "markdown",
   "metadata": {
    "application/vnd.databricks.v1+cell": {
     "cellMetadata": {},
     "inputWidgets": {},
     "nuid": "6ff0ad2e-6996-4456-9114-e0afe3f461c2",
     "showTitle": false,
     "tableResultSettingsMap": {},
     "title": ""
    }
   },
   "source": [
    "Criar a partir de Tabela temporária "
   ]
  },
  {
   "cell_type": "code",
   "execution_count": null,
   "metadata": {
    "application/vnd.databricks.v1+cell": {
     "cellMetadata": {
      "byteLimit": 2048000,
      "implicitDf": true,
      "rowLimit": 10000
     },
     "inputWidgets": {},
     "nuid": "ab96a60a-d32d-4ee8-8dd5-621d534b79be",
     "showTitle": false,
     "tableResultSettingsMap": {},
     "title": ""
    }
   },
   "outputs": [],
   "source": [
    "%sql\n",
    "\n",
    "use default;\n",
    "CREATE OR REPLACE TEMPORARY VIEW produtos_tmp\n",
    "USING csv\n",
    "OPTIONS (\n",
    "  'path' '/Volumes/workspace/default/arquivos-aula/Bike Store/products.csv',  -- Caminho para o arquivo no DBFS\n",
    "  'header' 'true',                               -- Se a primeira linha do arquivo contém cabeçalho\n",
    "  'inferSchema' 'true'                           -- Inferir automaticamente os tipos de dados das colunas\n",
    ")\n"
   ]
  },
  {
   "cell_type": "code",
   "execution_count": null,
   "metadata": {
    "application/vnd.databricks.v1+cell": {
     "cellMetadata": {
      "byteLimit": 2048000,
      "implicitDf": true,
      "rowLimit": 10000
     },
     "inputWidgets": {},
     "nuid": "3bfab847-84fb-43e3-a4c1-67c29f771cbb",
     "showTitle": false,
     "tableResultSettingsMap": {},
     "title": ""
    }
   },
   "outputs": [],
   "source": [
    "%sql\n",
    "--final a partir da view (CTAS)\n",
    "CREATE or replace TABLE teste.produtos AS SELECT * FROM produtos_tmp;"
   ]
  },
  {
   "cell_type": "code",
   "execution_count": null,
   "metadata": {
    "application/vnd.databricks.v1+cell": {
     "cellMetadata": {
      "byteLimit": 2048000,
      "implicitDf": true,
      "rowLimit": 10000
     },
     "inputWidgets": {},
     "nuid": "82f4e886-1ee3-4fbb-9039-365878b433f3",
     "showTitle": false,
     "tableResultSettingsMap": {
      "0": {
       "dataGridStateBlob": "{\"version\":1,\"tableState\":{\"columnPinning\":{\"left\":[\"#row_number#\"],\"right\":[]},\"columnSizing\":{},\"columnVisibility\":{}},\"settings\":{\"columns\":{}},\"syncTimestamp\":1755201754787}",
       "filterBlob": null,
       "queryPlanFiltersBlob": null,
       "tableResultIndex": 0
      }
     },
     "title": ""
    }
   },
   "outputs": [],
   "source": [
    "%sql\n",
    "-- ver todos os dados \n",
    "use Teste;\n",
    "SELECT * FROM Produtos\n"
   ]
  },
  {
   "cell_type": "code",
   "execution_count": null,
   "metadata": {
    "application/vnd.databricks.v1+cell": {
     "cellMetadata": {
      "byteLimit": 2048000,
      "implicitDf": true,
      "rowLimit": 10000
     },
     "inputWidgets": {},
     "nuid": "94222a86-dee3-48bc-a2af-5c69630845ca",
     "showTitle": false,
     "tableResultSettingsMap": {},
     "title": ""
    }
   },
   "outputs": [],
   "source": [
    "%sql\n",
    "SELECT count(*) FROM teste.produtos"
   ]
  },
  {
   "cell_type": "code",
   "execution_count": null,
   "metadata": {
    "application/vnd.databricks.v1+cell": {
     "cellMetadata": {
      "byteLimit": 2048000,
      "implicitDf": true,
      "rowLimit": 10000
     },
     "inputWidgets": {},
     "nuid": "950b8924-3ded-45d4-b3e2-bd14813460e5",
     "showTitle": false,
     "tableResultSettingsMap": {},
     "title": ""
    }
   },
   "outputs": [],
   "source": [
    "%sql\n",
    "-- Quantidade de Bikes por ano do modelo produzido \n",
    "select \n",
    "model_year as Ano\n",
    ",count(product_id) QNT\n",
    "from produtos\n",
    "group by model_year\n",
    "order by  QNT desc\n",
    "\n"
   ]
  },
  {
   "cell_type": "markdown",
   "metadata": {
    "application/vnd.databricks.v1+cell": {
     "cellMetadata": {},
     "inputWidgets": {},
     "nuid": "d6de5a08-bf40-4dad-9276-5802ddbde014",
     "showTitle": false,
     "tableResultSettingsMap": {},
     "title": ""
    }
   },
   "source": [
    "##### Criando tabela de Clientes"
   ]
  },
  {
   "cell_type": "code",
   "execution_count": null,
   "metadata": {
    "application/vnd.databricks.v1+cell": {
     "cellMetadata": {
      "byteLimit": 2048000,
      "implicitDf": true,
      "rowLimit": 10000
     },
     "inputWidgets": {},
     "nuid": "601d80d6-bb00-4848-9ce9-a1046f826187",
     "showTitle": false,
     "tableResultSettingsMap": {},
     "title": ""
    }
   },
   "outputs": [],
   "source": [
    "%sql\n",
    "\n",
    "CREATE OR REPLACE TEMPORARY VIEW clientes_tmp\n",
    "USING csv\n",
    "OPTIONS (\n",
    "  path '/Volumes/workspace/default/arquivos-aula/Bike Store/customers.csv',  -- Caminho volume origem\n",
    "  header 'true',                               -- Se a primeira linha do arquivo contém cabeçalho\n",
    "  inferSchema 'true'                           -- Inferir automaticamente os tipos de dados das colunas\n",
    ")\n",
    ";\n",
    "\n",
    "CREATE or replace TABLE teste.clientes AS SELECT * FROM clientes_tmp;"
   ]
  },
  {
   "cell_type": "code",
   "execution_count": null,
   "metadata": {
    "application/vnd.databricks.v1+cell": {
     "cellMetadata": {
      "byteLimit": 2048000,
      "implicitDf": true,
      "rowLimit": 10000
     },
     "inputWidgets": {},
     "nuid": "34ac938e-bab8-40c1-b445-cd2e6eeccb9a",
     "showTitle": false,
     "tableResultSettingsMap": {},
     "title": ""
    }
   },
   "outputs": [],
   "source": [
    "%sql\n",
    "use teste;\n",
    "select * from clientes"
   ]
  },
  {
   "cell_type": "code",
   "execution_count": null,
   "metadata": {
    "application/vnd.databricks.v1+cell": {
     "cellMetadata": {
      "byteLimit": 2048000,
      "implicitDf": true,
      "rowLimit": 10000
     },
     "inputWidgets": {},
     "nuid": "2a162e28-8b34-47e3-ae80-70e9f128ebb2",
     "showTitle": false,
     "tableResultSettingsMap": {},
     "title": ""
    }
   },
   "outputs": [],
   "source": [
    "%sql\n",
    "use Teste;\n",
    "--  quantos Clientes Por Estado\n",
    "select count(*) from clientes\n"
   ]
  },
  {
   "cell_type": "code",
   "execution_count": null,
   "metadata": {
    "application/vnd.databricks.v1+cell": {
     "cellMetadata": {
      "byteLimit": 2048000,
      "implicitDf": true,
      "rowLimit": 10000
     },
     "inputWidgets": {},
     "nuid": "067cace7-485b-448c-812c-632709095b41",
     "showTitle": false,
     "tableResultSettingsMap": {},
     "title": ""
    }
   },
   "outputs": [],
   "source": [
    "%sql\n",
    "--  quantos Clientes Por Estado\n",
    "select  \n",
    "  city as Cidade\n",
    "  ,count(customer_id) Quantidade\n",
    "from teste.clientes\n",
    "group by city\n"
   ]
  },
  {
   "cell_type": "code",
   "execution_count": null,
   "metadata": {
    "application/vnd.databricks.v1+cell": {
     "cellMetadata": {
      "byteLimit": 2048000,
      "implicitDf": true,
      "rowLimit": 10000
     },
     "inputWidgets": {},
     "nuid": "bcf447ac-378e-49d0-b8a9-f54711940ebd",
     "showTitle": false,
     "tableResultSettingsMap": {},
     "title": ""
    }
   },
   "outputs": [],
   "source": [
    "%sql\n",
    "--  quantos Clientes Por Estado\n",
    "select  \n",
    "state\n",
    ",count(customer_id) Quantidade\n",
    "from teste.clientes\n",
    "group by state\n",
    "order by 2 desc"
   ]
  },
  {
   "cell_type": "markdown",
   "metadata": {
    "application/vnd.databricks.v1+cell": {
     "cellMetadata": {},
     "inputWidgets": {},
     "nuid": "dec27f8b-fb05-48b8-830e-3858ef5f5ce9",
     "showTitle": false,
     "tableResultSettingsMap": {},
     "title": ""
    }
   },
   "source": [
    "##### Criando outras tabelas"
   ]
  },
  {
   "cell_type": "code",
   "execution_count": null,
   "metadata": {
    "application/vnd.databricks.v1+cell": {
     "cellMetadata": {
      "byteLimit": 2048000,
      "rowLimit": 10000
     },
     "inputWidgets": {},
     "nuid": "244c8ae9-2620-4945-885f-238b82aabfca",
     "showTitle": false,
     "tableResultSettingsMap": {},
     "title": ""
    }
   },
   "outputs": [],
   "source": [
    "%python\n",
    "display(dbutils.fs.ls('/Volumes/workspace/default/arquivos-aula/Bike Store/'))\n"
   ]
  },
  {
   "cell_type": "code",
   "execution_count": null,
   "metadata": {
    "application/vnd.databricks.v1+cell": {
     "cellMetadata": {
      "byteLimit": 2048000,
      "implicitDf": true,
      "rowLimit": 10000
     },
     "inputWidgets": {},
     "nuid": "c64025a7-9d73-4e63-af8c-fe66e0a4ad2a",
     "showTitle": false,
     "tableResultSettingsMap": {},
     "title": ""
    }
   },
   "outputs": [],
   "source": [
    "-- Usando o schema correto\n",
    "USE teste;\n",
    "\n",
    "-- Criar temp views\n",
    "CREATE OR REPLACE TEMP VIEW brands_tmp      USING CSV OPTIONS (path '/Volumes/workspace/default/arquivos-aula/Bike Store/brands.csv', header 'true', inferSchema 'true');\n",
    "CREATE OR REPLACE TEMP VIEW categories_tmp  USING CSV OPTIONS (path '/Volumes/workspace/default/arquivos-aula/Bike Store/categories.csv', header 'true', inferSchema 'true');\n",
    "CREATE OR REPLACE TEMP VIEW clientes_tmp    USING CSV OPTIONS (path '/Volumes/workspace/default/arquivos-aula/Bike Store/customers.csv', header 'true', inferSchema 'true');\n",
    "CREATE OR REPLACE TEMP VIEW order_items_tmp USING CSV OPTIONS (path '/Volumes/workspace/default/arquivos-aula/Bike Store/order_items.csv', header 'true', inferSchema 'true');\n",
    "CREATE OR REPLACE TEMP VIEW orders_tmp      USING CSV OPTIONS (path '/Volumes/workspace/default/arquivos-aula/Bike Store/orders.csv', header 'true', inferSchema 'true');\n",
    "CREATE OR REPLACE TEMP VIEW products_tmp    USING CSV OPTIONS (path '/Volumes/workspace/default/arquivos-aula/Bike Store/products.csv', header 'true', inferSchema 'true');\n",
    "CREATE OR REPLACE TEMP VIEW staffs_tmp      USING CSV OPTIONS (path '/Volumes/workspace/default/arquivos-aula/Bike Store/staffs.csv', header 'true', inferSchema 'true');\n",
    "CREATE OR REPLACE TEMP VIEW stocks_tmp      USING CSV OPTIONS (path '/Volumes/workspace/default/arquivos-aula/Bike Store/stocks.csv', header 'true', inferSchema 'true');\n",
    "CREATE OR REPLACE TEMP VIEW stores_tmp      USING CSV OPTIONS (path '/Volumes/workspace/default/arquivos-aula/Bike Store/stores.csv', header 'true', inferSchema 'true');\n",
    "\n",
    "-- Criar tabelas permanentes a partir das temp views\n",
    "CREATE OR REPLACE TABLE teste.brands AS SELECT * FROM brands_tmp;\n",
    "CREATE OR REPLACE TABLE teste.categories AS SELECT * FROM categories_tmp;\n",
    "CREATE OR REPLACE TABLE teste.clientes AS SELECT * FROM clientes_tmp;\n",
    "CREATE OR REPLACE TABLE teste.order_items AS SELECT * FROM order_items_tmp;\n",
    "CREATE OR REPLACE TABLE teste.orders AS SELECT * FROM orders_tmp;\n",
    "CREATE OR REPLACE TABLE teste.products AS SELECT * FROM products_tmp;\n",
    "CREATE OR REPLACE TABLE teste.staffs AS SELECT * FROM staffs_tmp;\n",
    "CREATE OR REPLACE TABLE teste.stocks AS SELECT * FROM stocks_tmp;\n",
    "CREATE OR REPLACE TABLE teste.stores AS SELECT * FROM stores_tmp;\n"
   ]
  },
  {
   "cell_type": "code",
   "execution_count": null,
   "metadata": {
    "application/vnd.databricks.v1+cell": {
     "cellMetadata": {
      "byteLimit": 2048000,
      "rowLimit": 10000
     },
     "inputWidgets": {},
     "nuid": "3e53e95e-da4c-4dde-b42e-1932009d062a",
     "showTitle": false,
     "tableResultSettingsMap": {},
     "title": ""
    }
   },
   "outputs": [],
   "source": [
    "select * from workspace.teste.categories"
   ]
  },
  {
   "cell_type": "code",
   "execution_count": null,
   "metadata": {
    "application/vnd.databricks.v1+cell": {
     "cellMetadata": {
      "byteLimit": 2048000,
      "rowLimit": 10000
     },
     "inputWidgets": {},
     "nuid": "6ca669bd-024e-4185-860c-dba98e728fc4",
     "showTitle": false,
     "tableResultSettingsMap": {},
     "title": ""
    }
   },
   "outputs": [],
   "source": [
    "--drop database teste  cascade;\n",
    "--drop table workspace.teste.produtos;"
   ]
  }
 ],
 "metadata": {
  "application/vnd.databricks.v1+notebook": {
   "computePreferences": null,
   "dashboards": [],
   "environmentMetadata": null,
   "inputWidgetPreferences": null,
   "language": "sql",
   "notebookMetadata": {
    "mostRecentlyExecutedCommandWithImplicitDF": {
     "commandId": -1,
     "dataframes": [
      "_sqldf"
     ]
    },
    "pythonIndentUnit": 4
   },
   "notebookName": "02. Criando Tabelas Via Comando SQL - Atualizado",
   "widgets": {}
  },
  "kernelspec": {
   "display_name": "",
   "name": ""
  },
  "language_info": {
   "name": "sql"
  }
 },
 "nbformat": 4,
 "nbformat_minor": 4
}
