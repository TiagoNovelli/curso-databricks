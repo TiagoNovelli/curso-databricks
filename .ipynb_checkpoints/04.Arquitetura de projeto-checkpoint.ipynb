{
 "cells": [
  {
   "cell_type": "markdown",
   "metadata": {
    "application/vnd.databricks.v1+cell": {
     "cellMetadata": {},
     "inputWidgets": {},
     "nuid": "e9972997-3295-4de0-9999-e3d6cab1871d",
     "showTitle": false,
     "tableResultSettingsMap": {},
     "title": ""
    }
   },
   "source": [
    "![](https://www.databricks.com/sites/default/files/inline-images/building-data-pipelines-with-delta-lake-120823.png)\n",
    "\n",
    "https://www.databricks.com/glossary/medallion-architecture"
   ]
  },
  {
   "cell_type": "code",
   "execution_count": 0,
   "metadata": {
    "application/vnd.databricks.v1+cell": {
     "cellMetadata": {
      "byteLimit": 2048000,
      "rowLimit": 10000
     },
     "inputWidgets": {},
     "nuid": "652d09e6-6861-4adb-878a-8d822ae82d79",
     "showTitle": false,
     "tableResultSettingsMap": {},
     "title": ""
    }
   },
   "outputs": [],
   "source": [
    "\n",
    "\n",
    "'''\n",
    "<storage-account>/<container>/\n",
    "│\n",
    "├── projet1/\n",
    "│   ├── resource/                 # dados de origem e entrega\n",
    "│   │   ├── origem/               # arquivos CSV/Parquet recebidos da fonte\n",
    "│   │   └── destino/              # exportações (CSV, Parquet, Excel) para clientes ou setores\n",
    "│   │\n",
    "│   ├── bronze/                   # dados crus (raw)\n",
    "│   │   ├── clientes/\n",
    "│   │   ├── pedidos/\n",
    "│   │   ├── produtos/\n",
    "│   │   └── categorias/\n",
    "│   │\n",
    "│   ├── silver/                   # dados limpos / tratados\n",
    "│   │   ├── clientes/\n",
    "│   │   └── pedidos/\n",
    "|   |   └── produtos/\n",
    "│   │\n",
    "│   ├── gold/                     # dados agregados / analytics\n",
    "│   │   └── vendas_categoria/\n",
    "│   │   └── vendas_cidade_MG/\n",
    "│   │\n",
    "│   │\n",
    "│   ├── metadata/                 # metadados e logs\n",
    "│   │   ├── bronze/\n",
    "│   │   ├── silver/\n",
    "│   │   ├── gold/\n",
    "│   │   ├── ddl/                  # scripts de criação de tabelas\n",
    "│   │   ├── logs/                 # logs de execução do ETL\n",
    "│   │   └── checkpoints/          # checkpoints do Autoloader / streaming\n",
    "│   │\n",
    "│   └── tmp/                      # staging temporário\n",
    "\n",
    "│\n",
    "├── projet2/\n",
    "Obs: Estrutura básica de exemplo, cada empresa / setor pode ter a sua \n",
    "\n",
    "\n",
    "'''"
   ]
  },
  {
   "cell_type": "markdown",
   "metadata": {
    "application/vnd.databricks.v1+cell": {
     "cellMetadata": {},
     "inputWidgets": {},
     "nuid": "0407b2d1-a849-44da-bcbc-0027de922966",
     "showTitle": false,
     "tableResultSettingsMap": {},
     "title": ""
    }
   },
   "source": [
    "## Importante\n",
    "Para Criar tabela com metadados externos a pasta dos metadados \"**Não**\" podem estar mapeados como \"**Volumes**\" <br>\n",
    "Nesse caso, não use Volumes, mas sim um External Location previamente criado e concedido no UC."
   ]
  },
  {
   "cell_type": "code",
   "execution_count": 0,
   "metadata": {
    "application/vnd.databricks.v1+cell": {
     "cellMetadata": {
      "byteLimit": 2048000,
      "implicitDf": true,
      "rowLimit": 10000
     },
     "inputWidgets": {},
     "nuid": "805308bc-15ba-4764-9d76-3961a60f5a31",
     "showTitle": false,
     "tableResultSettingsMap": {},
     "title": ""
    }
   },
   "outputs": [],
   "source": [
    "%sql\n",
    "drop schema if exists infinitybigdata.azure cascade"
   ]
  },
  {
   "cell_type": "markdown",
   "metadata": {
    "application/vnd.databricks.v1+cell": {
     "cellMetadata": {},
     "inputWidgets": {},
     "nuid": "68e3c874-7405-43e7-86d2-cffcfa3e3e70",
     "showTitle": false,
     "tableResultSettingsMap": {},
     "title": ""
    }
   },
   "source": [
    "Teste com erro"
   ]
  },
  {
   "cell_type": "code",
   "execution_count": 0,
   "metadata": {
    "application/vnd.databricks.v1+cell": {
     "cellMetadata": {
      "byteLimit": 2048000,
      "implicitDf": true,
      "rowLimit": 10000
     },
     "inputWidgets": {},
     "nuid": "2a127c9c-f0e0-4466-99bf-a0a769024195",
     "showTitle": false,
     "tableResultSettingsMap": {},
     "title": ""
    }
   },
   "outputs": [],
   "source": [
    "%sql\n",
    "CREATE SCHEMA IF NOT EXISTS infinitybigdata.azure;\n",
    "create external volume infinitybigdata.azure.projet1 \n",
    "comment 'Volume externo na Azure'\n",
    "location 'abfss://uc-ext-azure@externalazure.dfs.core.windows.net/projet1'\n"
   ]
  },
  {
   "cell_type": "code",
   "execution_count": 0,
   "metadata": {
    "application/vnd.databricks.v1+cell": {
     "cellMetadata": {
      "byteLimit": 2048000,
      "implicitDf": true,
      "rowLimit": 10000
     },
     "inputWidgets": {},
     "nuid": "c546ac76-6504-4733-b6f9-ae1b543d9874",
     "showTitle": false,
     "tableResultSettingsMap": {},
     "title": ""
    }
   },
   "outputs": [],
   "source": [
    "%sql\n",
    "CREATE TABLE infinitybigdata.azure.bronze_clientes\n",
    "LOCATION 'abfss://uc-ext-azure@externalazure.dfs.core.windows.net/projet1/metadados/bronze/custumers'\n",
    "\n"
   ]
  },
  {
   "cell_type": "markdown",
   "metadata": {
    "application/vnd.databricks.v1+cell": {
     "cellMetadata": {},
     "inputWidgets": {},
     "nuid": "315db639-5287-468b-a1bc-ef9fb43fdb86",
     "showTitle": false,
     "tableResultSettingsMap": {},
     "title": ""
    }
   },
   "source": [
    "Metadados fora do volume"
   ]
  },
  {
   "cell_type": "code",
   "execution_count": 0,
   "metadata": {
    "application/vnd.databricks.v1+cell": {
     "cellMetadata": {
      "byteLimit": 2048000,
      "implicitDf": true,
      "rowLimit": 10000
     },
     "inputWidgets": {},
     "nuid": "ae79f2b9-1ed4-42bd-8e2d-6caa78083032",
     "showTitle": false,
     "tableResultSettingsMap": {},
     "title": ""
    }
   },
   "outputs": [],
   "source": [
    "%sql\n",
    "drop volume azure.projet1"
   ]
  },
  {
   "cell_type": "code",
   "execution_count": 0,
   "metadata": {
    "application/vnd.databricks.v1+cell": {
     "cellMetadata": {
      "byteLimit": 2048000,
      "implicitDf": true,
      "rowLimit": 10000
     },
     "inputWidgets": {},
     "nuid": "bc7c2100-47ab-4741-b738-4703ab782d37",
     "showTitle": false,
     "tableResultSettingsMap": {},
     "title": ""
    }
   },
   "outputs": [],
   "source": [
    "%sql\n",
    "--CREATE SCHEMA IF NOT EXISTS infinitybigdata.azure;\n",
    "create external volume infinitybigdata.azure.projet1_resource \n",
    "comment 'Volume externo na Azure somente recursos e arquivos'\n",
    "location 'abfss://uc-ext-azure@externalazure.dfs.core.windows.net/projet1/resource'\n"
   ]
  },
  {
   "cell_type": "code",
   "execution_count": 0,
   "metadata": {
    "application/vnd.databricks.v1+cell": {
     "cellMetadata": {
      "byteLimit": 2048000,
      "implicitDf": true,
      "rowLimit": 10000
     },
     "inputWidgets": {},
     "nuid": "5e61c9f8-b003-40ed-b15d-688e10602392",
     "showTitle": false,
     "tableResultSettingsMap": {},
     "title": ""
    }
   },
   "outputs": [],
   "source": [
    "%sql\n",
    "--Exemplo de tabela vazia só para ver as pastas se comportando \n",
    "CREATE TABLE infinitybigdata.azure.bronze_custumers\n",
    "LOCATION 'abfss://uc-ext-azure@externalazure.dfs.core.windows.net/projet1/metadata/bronze/custumers'\n",
    "-- obs: pasta de Metadados não deve estar mapeadas em Volumes\n"
   ]
  },
  {
   "cell_type": "markdown",
   "metadata": {
    "application/vnd.databricks.v1+cell": {
     "cellMetadata": {},
     "inputWidgets": {},
     "nuid": "9ebb2cc7-f204-4e3e-9f33-af6ac6ca0f6f",
     "showTitle": false,
     "tableResultSettingsMap": {},
     "title": ""
    }
   },
   "source": [
    "Formas de Criar e popular tabelas"
   ]
  },
  {
   "cell_type": "code",
   "execution_count": 0,
   "metadata": {
    "application/vnd.databricks.v1+cell": {
     "cellMetadata": {
      "byteLimit": 2048000,
      "rowLimit": 10000
     },
     "inputWidgets": {},
     "nuid": "a4fb2290-411a-45df-85e4-84b635ed2474",
     "showTitle": false,
     "tableResultSettingsMap": {},
     "title": ""
    }
   },
   "outputs": [],
   "source": [
    "bronze_path   = 'abfss://uc-ext-azure@externalazure.dfs.core.windows.net/projet1/bronze/'\n",
    "silver_path   = 'abfss://uc-ext-azure@externalazure.dfs.core.windows.net/projet1/silver/'\n",
    "gold_path     = 'abfss://uc-ext-azure@externalazure.dfs.core.windows.net/projet1/gold/'\n",
    "resource_path = 'abfss://uc-ext-azure@externalazure.dfs.core.windows.net/projet1/resource/origem/'\n",
    "resource_path_volume = '/Volumes/infinitybigdata/azure/projet1_resource/origem/'"
   ]
  },
  {
   "cell_type": "code",
   "execution_count": 0,
   "metadata": {
    "application/vnd.databricks.v1+cell": {
     "cellMetadata": {
      "byteLimit": 2048000,
      "rowLimit": 10000
     },
     "inputWidgets": {},
     "nuid": "510c194d-65e2-4345-b872-1796a720217b",
     "showTitle": false,
     "tableResultSettingsMap": {},
     "title": ""
    }
   },
   "outputs": [],
   "source": [
    "%fs\n",
    "ls \"abfss://uc-ext-azure@externalazure.dfs.core.windows.net/projet1/resource/origem/\""
   ]
  },
  {
   "cell_type": "code",
   "execution_count": 0,
   "metadata": {
    "application/vnd.databricks.v1+cell": {
     "cellMetadata": {
      "byteLimit": 2048000,
      "rowLimit": 10000
     },
     "inputWidgets": {},
     "nuid": "6ac4cafe-2e32-413e-b7df-59e6ec802eb8",
     "showTitle": false,
     "tableResultSettingsMap": {},
     "title": ""
    }
   },
   "outputs": [],
   "source": [
    "display(dbutils.fs.ls(resource_path))"
   ]
  },
  {
   "cell_type": "code",
   "execution_count": 0,
   "metadata": {
    "application/vnd.databricks.v1+cell": {
     "cellMetadata": {
      "byteLimit": 2048000,
      "rowLimit": 10000
     },
     "inputWidgets": {},
     "nuid": "39e21c5a-8f56-4932-be61-585b7d46df4e",
     "showTitle": false,
     "tableResultSettingsMap": {},
     "title": ""
    }
   },
   "outputs": [],
   "source": [
    "display(dbutils.fs.ls(f'{resource_path}'))"
   ]
  },
  {
   "cell_type": "code",
   "execution_count": 0,
   "metadata": {
    "application/vnd.databricks.v1+cell": {
     "cellMetadata": {
      "byteLimit": 2048000,
      "rowLimit": 10000
     },
     "inputWidgets": {},
     "nuid": "e659ac1b-9822-4d2e-aebf-4bb05eea7def",
     "showTitle": false,
     "tableResultSettingsMap": {},
     "title": ""
    }
   },
   "outputs": [],
   "source": [
    "# Ler o CSV ou origem qualquer em DataFrame do Spark\n",
    "df_brands=spark.read.csv(f'{resource_path}/brands.csv',\n",
    "                          header=True, \n",
    "                          inferSchema=True\n",
    "                          )\n"
   ]
  },
  {
   "cell_type": "code",
   "execution_count": 0,
   "metadata": {
    "application/vnd.databricks.v1+cell": {
     "cellMetadata": {
      "byteLimit": 2048000,
      "rowLimit": 10000
     },
     "inputWidgets": {},
     "nuid": "d6c3a3bf-0567-4f86-b286-e6159ce5f55a",
     "showTitle": false,
     "tableResultSettingsMap": {},
     "title": ""
    }
   },
   "outputs": [],
   "source": [
    "display(df_brands)"
   ]
  },
  {
   "cell_type": "code",
   "execution_count": 0,
   "metadata": {
    "application/vnd.databricks.v1+cell": {
     "cellMetadata": {
      "byteLimit": 2048000,
      "rowLimit": 10000
     },
     "inputWidgets": {},
     "nuid": "5747dd4c-6e89-4b04-999b-aa50ff3ccbdb",
     "showTitle": false,
     "tableResultSettingsMap": {},
     "title": ""
    }
   },
   "outputs": [],
   "source": [
    "#salvar em parquet como delta \n",
    "df_brands.write\\\n",
    "    .mode('overwrite')\\\n",
    "    .format('delta')\\\n",
    "    .option(\"mergeSchema\", \"true\") \\\n",
    "    .save(f\"{bronze_path}/brands\")\n",
    "#.save(bronze_path+'brands')\n",
    "''' mergeSchema permite que novas colunas adicionadas ao DataFrame sejam incorporadas ao Delta sem precisar recriar a tabela.\n",
    "Se você remover uma coluna no DataFrame e fizer um overwrite com mergeSchema=True, a coluna antiga continua existindo na tabela Delta, mas todos os valores correspondentes ficarão nulos.'''"
   ]
  },
  {
   "cell_type": "markdown",
   "metadata": {
    "application/vnd.databricks.v1+cell": {
     "cellMetadata": {},
     "inputWidgets": {},
     "nuid": "7e2c524e-21ec-4199-bc0b-7fb8302fed0f",
     "showTitle": false,
     "tableResultSettingsMap": {},
     "title": ""
    }
   },
   "source": [
    "criar tabela sql apartir do arquivo "
   ]
  },
  {
   "cell_type": "code",
   "execution_count": 0,
   "metadata": {
    "application/vnd.databricks.v1+cell": {
     "cellMetadata": {
      "byteLimit": 2048000,
      "rowLimit": 10000
     },
     "inputWidgets": {},
     "nuid": "9bef1ef0-f0f6-4640-a1d9-3305c5ed788d",
     "showTitle": false,
     "tableResultSettingsMap": {},
     "title": ""
    }
   },
   "outputs": [],
   "source": [
    "display(dbutils.fs.ls(f\"{bronze_path}/brands\"))"
   ]
  },
  {
   "cell_type": "code",
   "execution_count": 0,
   "metadata": {
    "application/vnd.databricks.v1+cell": {
     "cellMetadata": {
      "byteLimit": 2048000,
      "rowLimit": 10000
     },
     "inputWidgets": {},
     "nuid": "44d909a9-3fcf-4e07-8eb6-0fefa8d96184",
     "showTitle": false,
     "tableResultSettingsMap": {
      "0": {
       "dataGridStateBlob": "{\"version\":1,\"tableState\":{\"columnPinning\":{\"left\":[\"#row_number#\"],\"right\":[]},\"columnSizing\":{\"path\":506},\"columnVisibility\":{}},\"settings\":{\"columns\":{}},\"syncTimestamp\":1755808819507}",
       "filterBlob": null,
       "queryPlanFiltersBlob": null,
       "tableResultIndex": 0
      }
     },
     "title": ""
    }
   },
   "outputs": [],
   "source": [
    "display(dbutils.fs.ls(f\"{bronze_path}\"))"
   ]
  },
  {
   "cell_type": "code",
   "execution_count": 0,
   "metadata": {
    "application/vnd.databricks.v1+cell": {
     "cellMetadata": {
      "byteLimit": 2048000,
      "implicitDf": true,
      "rowLimit": 10000
     },
     "inputWidgets": {},
     "nuid": "a6ee6b0a-af79-42a7-80d2-a5ee73ae7afb",
     "showTitle": false,
     "tableResultSettingsMap": {},
     "title": ""
    }
   },
   "outputs": [],
   "source": [
    "%sql\n",
    "--criar uma tabela com o external location\n",
    "CREATE TABLE IF NOT EXISTS infinitybigdata.azure.bronze_brands\n",
    "LOCATION 'abfss://uc-ext-azure@externalazure.dfs.core.windows.net/projet1/bronze/brands/'"
   ]
  },
  {
   "cell_type": "code",
   "execution_count": 0,
   "metadata": {
    "application/vnd.databricks.v1+cell": {
     "cellMetadata": {
      "byteLimit": 2048000,
      "implicitDf": true,
      "rowLimit": 10000
     },
     "inputWidgets": {},
     "nuid": "6856e68b-506d-48ab-8d28-1b3584c908d5",
     "showTitle": false,
     "tableResultSettingsMap": {},
     "title": ""
    }
   },
   "outputs": [],
   "source": [
    "%sql\n",
    "select * from infinitybigdata.azure.bronze_brands\n"
   ]
  },
  {
   "cell_type": "markdown",
   "metadata": {
    "application/vnd.databricks.v1+cell": {
     "cellMetadata": {},
     "inputWidgets": {},
     "nuid": "29dcf074-a96f-4646-8eb7-747eced7c89b",
     "showTitle": false,
     "tableResultSettingsMap": {},
     "title": ""
    }
   },
   "source": [
    "Modo SQL prático só para teste"
   ]
  },
  {
   "cell_type": "code",
   "execution_count": 0,
   "metadata": {
    "application/vnd.databricks.v1+cell": {
     "cellMetadata": {
      "byteLimit": 2048000,
      "implicitDf": true,
      "rowLimit": 10000
     },
     "inputWidgets": {},
     "nuid": "8dfaab27-884e-48c3-9a12-86e369c23301",
     "showTitle": false,
     "tableResultSettingsMap": {
      "0": {
       "dataGridStateBlob": "{\"version\":1,\"tableState\":{\"columnPinning\":{\"left\":[\"#row_number#\"],\"right\":[]},\"columnSizing\":{},\"columnVisibility\":{}},\"settings\":{\"columns\":{}},\"syncTimestamp\":1755809458471}",
       "filterBlob": null,
       "queryPlanFiltersBlob": null,
       "tableResultIndex": 0
      }
     },
     "title": ""
    }
   },
   "outputs": [],
   "source": [
    "%sql\n",
    "select * from csv.`/Volumes/infinitybigdata/azure/projet1_resource/origem/customers.csv`\n",
    "WITH (\n",
    "  header = 'true',\n",
    "  inferSchema = 'true'\n",
    ");\n",
    "--  leitura rapida para ambiente de produção, teste , consulta rapida etc \n",
    "\n",
    "\n"
   ]
  },
  {
   "cell_type": "code",
   "execution_count": 0,
   "metadata": {
    "application/vnd.databricks.v1+cell": {
     "cellMetadata": {
      "byteLimit": 2048000,
      "implicitDf": true,
      "rowLimit": 10000
     },
     "inputWidgets": {},
     "nuid": "70a95230-5eff-4d9d-9139-dfd9b23d2c16",
     "showTitle": false,
     "tableResultSettingsMap": {},
     "title": ""
    }
   },
   "outputs": [],
   "source": [
    "%sql\n",
    "--CTAS create table as + a consulta \n",
    "CREATE TABLE IF NOT EXISTS infinitybigdata.azure.bronze_clientes_teste\n",
    "LOCATION 'abfss://uc-ext-azure@externalazure.dfs.core.windows.net/projet1/metadata/bronze/clientes_teste' \n",
    "AS\n",
    "select * from csv.`/Volumes/infinitybigdata/azure/projet1_resource/origem/customers.csv`\n",
    "WITH (\n",
    "  header = 'true',\n",
    "  inferSchema = 'true'\n",
    ");\n"
   ]
  },
  {
   "cell_type": "code",
   "execution_count": 0,
   "metadata": {
    "application/vnd.databricks.v1+cell": {
     "cellMetadata": {
      "byteLimit": 2048000,
      "implicitDf": true,
      "rowLimit": 10000
     },
     "inputWidgets": {},
     "nuid": "fa8fd932-bf06-4e2a-a3b6-d7ac3c10fc85",
     "showTitle": false,
     "tableResultSettingsMap": {},
     "title": ""
    }
   },
   "outputs": [],
   "source": [
    "%sql\n",
    "select * from azure.bronze_clientes_teste\n",
    "where first_name = 'Jacquline'"
   ]
  },
  {
   "cell_type": "code",
   "execution_count": 0,
   "metadata": {
    "application/vnd.databricks.v1+cell": {
     "cellMetadata": {
      "byteLimit": 2048000,
      "implicitDf": true,
      "rowLimit": 10000
     },
     "inputWidgets": {},
     "nuid": "4ec95477-51c0-4b46-9625-c764ca780bae",
     "showTitle": false,
     "tableResultSettingsMap": {},
     "title": ""
    }
   },
   "outputs": [],
   "source": [
    "%sql\n",
    "drop volume azure.projet1_resource;\n",
    "drop schema infinitybigdata.azure cascade"
   ]
  }
 ],
 "metadata": {
  "application/vnd.databricks.v1+notebook": {
   "computePreferences": null,
   "dashboards": [],
   "environmentMetadata": {
    "base_environment": "",
    "environment_version": "2"
   },
   "inputWidgetPreferences": null,
   "language": "python",
   "notebookMetadata": {
    "mostRecentlyExecutedCommandWithImplicitDF": {
     "commandId": 7513034930881225,
     "dataframes": [
      "_sqldf"
     ]
    },
    "pythonIndentUnit": 4
   },
   "notebookName": "04.Arquitetura de projeto",
   "widgets": {}
  },
  "language_info": {
   "name": "python"
  }
 },
 "nbformat": 4,
 "nbformat_minor": 0
}
