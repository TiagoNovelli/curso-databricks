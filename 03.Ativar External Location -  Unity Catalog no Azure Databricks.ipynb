{
 "cells": [
  {
   "cell_type": "markdown",
   "metadata": {
    "application/vnd.databricks.v1+cell": {
     "cellMetadata": {
      "byteLimit": 2048000,
      "rowLimit": 10000
     },
     "inputWidgets": {},
     "nuid": "33205400-6749-4bba-a516-636497f7023e",
     "showTitle": false,
     "tableResultSettingsMap": {},
     "title": ""
    }
   },
   "source": [
    "Volumes externos versus gerenciados<br>\n",
    "https://learn.microsoft.com/pt-br/azure/databricks/volumes/managed-vs-external\n",
    "\n",
    "\n",
    "Governança de dados com o Azure Databricks<br>\n",
    "https://learn.microsoft.com/pt-br/azure/databricks/data-governance/"
   ]
  },
  {
   "cell_type": "markdown",
   "metadata": {
    "application/vnd.databricks.v1+cell": {
     "cellMetadata": {},
     "inputWidgets": {},
     "nuid": "3120f7d1-29af-4fdb-b4df-f2943e49b5a7",
     "showTitle": false,
     "tableResultSettingsMap": {},
     "title": ""
    }
   },
   "source": [
    "## Volumes Gerenciados [Microsoft Learn](https://learn.microsoft.com/pt-br/azure/databricks/volumes/?utm_source=chatgpt.com)\n",
    "\n",
    "Armazenamento totalmente gerenciado pelo Unity Catalog, sem necessidade de especificar local externamente \n",
    "\n",
    "Todo acesso aos arquivos é controlado via caminhos gerenciados pelo Unity Catalog, sem expor URIs de armazenamento diretamente \n",
    "\n",
    "Ao excluir um volume gerenciado, os arquivos são retidos por 7 dias, e depois marcados para exclusão ― embora ainda fiquem armazenados temporariamente \n",
    "\n",
    "\n",
    "Databricks recomenda os volumes gerenciados como a solução mais simples para dados não tabulares, aproveitando otimizações de desempenho e governança completa \n",
    "\n",
    "\n",
    "![](https://learn.microsoft.com/pt-br/azure/databricks/_static/images/unity-catalog/object-model-volume.png)\n"
   ]
  },
  {
   "cell_type": "markdown",
   "metadata": {
    "application/vnd.databricks.v1+cell": {
     "cellMetadata": {},
     "inputWidgets": {},
     "nuid": "19a48b69-61ab-4817-ae8d-3e3de37ea8a6",
     "showTitle": false,
     "tableResultSettingsMap": {},
     "title": ""
    }
   },
   "source": [
    "## Volumes Externos\n",
    "\n",
    "Utilizam dados já existentes em armazenamento de objetos na nuvem, gerenciados fora do  Databricks, mas registrados no Unity Catalog para governança \n",
    "\n",
    "Permitem acesso via URIs de nuvem, tanto pelo Databricks quanto por sistemas externos \n",
    "\n",
    "As pastas e arquivos criados são relativos à LOCATION especificada quando o volume foi criado \n",
    "\n",
    "Ao remover (dropar) um volume externo, o volume é removido do Unity Catalog, mas os dados permanecem intactos no local externo \n"
   ]
  },
  {
   "cell_type": "markdown",
   "metadata": {
    "application/vnd.databricks.v1+cell": {
     "cellMetadata": {},
     "inputWidgets": {},
     "nuid": "97b6bc1d-1840-4c45-ac38-357f122471c8",
     "showTitle": false,
     "tableResultSettingsMap": {},
     "title": ""
    }
   },
   "source": [
    "## Por que usar Volumes Externos?\n",
    "\n",
    "Os volumes externos são úteis em cenários onde você precisa adicionar governança (Unity Catalog) ao armazenamento existente, sem migrar dados:\n",
    "\n",
    "Para aplicar governança em diretórios já existentes, sem necessidade de mover ou copiar dados \n",
    "\n",
    "Ideal para dados gerados por sistemas externos que precisam ser processados no Databricks (por exemplo, etapas iniciais de pipelines ETL) \n",
    "\n",
    "Ótimos como landing zones ou áreas de staging, por exemplo, com Auto Loader, COPY INTO, ou criando tabelas via CTAS \n",
    "\n",
    "Para dar acesso a dados arbitrários — como grandes coleções de arquivos não estruturados (imagens, áudio, vídeo, PDFs, JARs, wheels Python, etc.) — que já estejam em armazenamento externo \n",
    "\n",
    "Úteis para armazenar dados operacionais, como arquivos de log ou checkpoints, quando os volumes gerenciados não são adequados \n",
    "\n",
    "\n",
    "\n",
    "## Melhores práticas do Catálogo do Unity<br>\n",
    "https://learn.microsoft.com/pt-br/azure/databricks/data-governance/unity-catalog/best-practices\n"
   ]
  },
  {
   "cell_type": "markdown",
   "metadata": {
    "application/vnd.databricks.v1+cell": {
     "cellMetadata": {},
     "inputWidgets": {},
     "nuid": "53243c9d-69f4-4d99-b19c-b2d765007017",
     "showTitle": false,
     "tableResultSettingsMap": {},
     "title": ""
    }
   },
   "source": [
    "## Ativar Volume Externo Unity Catalog na Azure\n",
    "\n",
    "✅ Checklist\n",
    "### 1. Pré-requisitos\n",
    " Ser Account Admin no Azure Databricks Account Console <br>\n",
    " Ter acesso ao Azure Portal com permissão para criar/gerenciar Storage Account e IAM<br>\n",
    " Workspace Databricks já criado<br><br>\n",
    " Microsoft Entra >Manager>Roles and administrators <br>\n",
    " Your Role:Global Administrator \n",
    "\n",
    "###  2. Criar Storage para o Metastore (Armazenamento em nuvem)\n",
    " Criar Azure Storage Account (ADLS Gen2) na mesma região do workspace (Conta de armazenamento)<br>\n",
    " Serviço primário: Armazenamento Blobs  ou Storage gen2<br>\n",
    " Versao Premium - recomendado Block Blobs<br>\n",
    " Habilitar Hierarchical Namespace no storage<br><br>\n",
    "Criar container para o metastore (ex.: uc-ext-azure)<br>\n",
    "\n",
    "### 3. Access Connector for Azure Databricks + Permissoes\n",
    " criar No Azure Portal > Access Connector for Azure Databricks<br>\n",
    " Dar permissoes ao Access Connector for Azure Databricks no Storage account<br>\n",
    " Storage account> Access Control (IAM) >Add >Add role assignment > Storage Blob Data Contributor|Storage Blob Data Owner> next > Assign access to > Managed identity <br>\n",
    " Member > Azure databricks conector> adcionar Access Connector for Azure Databricks criado anteriormente\n",
    " Conferir no Storage account e Connector for Azure Databricks se Permisoes estão Ok\n",
    "\n",
    "### 4. Configurar no Databricks Workspace\n",
    "<be>https://learn.microsoft.com/pt-br/azure/databricks/connect/unity-catalog/cloud-storage/external-locations <br>\n",
    "https://learn.microsoft.com/pt-br/azure/databricks/connect/unity-catalog/cloud-storage/azure-managed-identities<br>\n",
    " Workspace settings> Identity and access> Users > Admin access= on <br>\n",
    " Catalog > Create a new credential<br>\n",
    " Type = Storage (Azure maneged identity)> Access connector ID = ID do Access Connector for Azure Databricks<br>\n",
    " Criar External Location =  catalog > + > create an eternal location > nome> type <br>\n",
    " URL inserir conforme documentação de exemplo 'abfss://my-container-name@my-storage-account.dfs.core.windows.net/path'\n",
    "<br>\n",
    "Teste Conection<br><br>\n",
    "\n",
    "Criar Volume em SQL.<br>\n",
    "Achar caminho do volume em \n",
    "Catalog > config > external location >\n"
   ]
  },
  {
   "cell_type": "markdown",
   "metadata": {
    "application/vnd.databricks.v1+cell": {
     "cellMetadata": {},
     "inputWidgets": {},
     "nuid": "51a82311-de7a-4fec-b77e-8fc3cf9beac9",
     "showTitle": false,
     "tableResultSettingsMap": {},
     "title": ""
    }
   },
   "source": []
  }
 ],
 "metadata": {
  "application/vnd.databricks.v1+notebook": {
   "computePreferences": null,
   "dashboards": [],
   "environmentMetadata": {
    "base_environment": "",
    "environment_version": "2"
   },
   "inputWidgetPreferences": null,
   "language": "python",
   "notebookMetadata": {
    "pythonIndentUnit": 4
   },
   "notebookName": "03.Ativar External Location -  Unity Catalog no Azure Databricks",
   "widgets": {}
  },
  "language_info": {
   "name": "python"
  }
 },
 "nbformat": 4,
 "nbformat_minor": 0
}